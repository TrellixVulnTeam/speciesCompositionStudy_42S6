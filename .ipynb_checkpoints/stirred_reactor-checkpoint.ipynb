{
 "cells": [
  {
   "cell_type": "markdown",
   "metadata": {},
   "source": [
    "## Continuous Reactor Example \n",
    "### Simulation of a CSTR/PSR/WSR \n",
    "\n",
    "In this example we will illustrate how Cantera can be used to simulate a Continuously Stirred Tank Reactor (CSTR), also interchangeably referred to as a Perfectly Stirred Reactor or a Well Stirred Reactor, a Jet Stirred Reactor or a Longwell Reactor (there may well be more \"aliases\"). A cartoon of such a reactor is shown below\n",
    "\n",
    "<img src=\"images/stirredReactorCartoon.png\" alt=\"Cartoon of a Stirred Reactor\" style=\"width: 300px;\"/>\n",
    "\n",
    "As the figure illustrates, this is an open system (unlike a Batch Reactor which is isolated). P, V and T are the reactor's pressure, volume and temperature respectively. The mass flow rate at which reactants come in is the same as that of the products which exit; and these stay in the reactor for a characteristic time $\\tau$, called the *residence time*. This is a key quantity in sizing the reactor and is defined as follows:\n",
    "\n",
    "\\begin{equation*}\n",
    "\\tau = \\frac{m}{\\dot{m}}\n",
    "\\end{equation*}\n",
    "\n",
    "where $m$ is the mass of the gas"
   ]
  },
  {
   "cell_type": "code",
   "execution_count": 1,
   "metadata": {},
   "outputs": [
    {
     "name": "stdout",
     "output_type": "stream",
     "text": [
      "Running Cantera version: 2.5.1\n"
     ]
    }
   ],
   "source": [
    "from __future__ import division\n",
    "from __future__ import print_function\n",
    "\n",
    "import pandas as pd\n",
    "import numpy as np\n",
    "import time\n",
    "import cantera as ct\n",
    "\n",
    "print(\"Running Cantera version: {}\".format(ct.__version__))"
   ]
  },
  {
   "cell_type": "markdown",
   "metadata": {},
   "source": [
    "### Import modules and set plotting defaults"
   ]
  },
  {
   "cell_type": "code",
   "execution_count": 2,
   "metadata": {},
   "outputs": [],
   "source": [
    "%matplotlib notebook\n",
    "import matplotlib.pyplot as plt\n",
    "\n",
    "plt.style.use('ggplot')\n",
    "plt.style.use('seaborn-pastel')\n",
    "\n",
    "plt.rcParams['axes.labelsize'] = 18\n",
    "plt.rcParams['xtick.labelsize'] = 14\n",
    "plt.rcParams['ytick.labelsize'] = 14\n",
    "plt.rcParams['figure.autolayout'] = True"
   ]
  },
  {
   "cell_type": "markdown",
   "metadata": {},
   "source": [
    "### Define the gas\n",
    "In this example, we will work with $nC\n",
    "_{7}H_{16}$/$O_{2}$/$He$ mixtures, for which experimental data can be found in the paper by [Zhang et al.](http://dx.doi.org/10.1016/j.combustflame.2015.08.001). We will use the same mechanism reported in the paper. It consists of 1268 species and 5336 reactions"
   ]
  },
  {
   "cell_type": "code",
   "execution_count": 3,
   "metadata": {},
   "outputs": [
    {
     "ename": "CanteraError",
     "evalue": "\n***********************************************************************\nCanteraError thrown by Application::findInputFile:\n\nInput file data/galway.cti not found in directories \n'.', \n'/home/derek/anaconda3/envs/IgnitionProject/lib/python3.8/site-packages/cantera/data', \n'/home/derek/anaconda3/envs/IgnitionProject/share/cantera/data'\n\nTo fix this problem, either:\n    a) move the missing files into the local directory;\n    b) define environment variable CANTERA_DATA to\n         point to the directory containing the file.\n***********************************************************************\n",
     "output_type": "error",
     "traceback": [
      "\u001b[0;31m---------------------------------------------------------------------------\u001b[0m",
      "\u001b[0;31mCanteraError\u001b[0m                              Traceback (most recent call last)",
      "\u001b[0;32m<ipython-input-3-8e30e0937406>\u001b[0m in \u001b[0;36m<module>\u001b[0;34m\u001b[0m\n\u001b[0;32m----> 1\u001b[0;31m \u001b[0mgas\u001b[0m \u001b[0;34m=\u001b[0m \u001b[0mct\u001b[0m\u001b[0;34m.\u001b[0m\u001b[0mSolution\u001b[0m\u001b[0;34m(\u001b[0m\u001b[0;34m'data/galway.cti'\u001b[0m\u001b[0;34m)\u001b[0m\u001b[0;34m\u001b[0m\u001b[0;34m\u001b[0m\u001b[0m\n\u001b[0m",
      "\u001b[0;32minterfaces/cython/cantera/base.pyx\u001b[0m in \u001b[0;36mcantera._cantera._SolutionBase.__cinit__\u001b[0;34m()\u001b[0m\n",
      "\u001b[0;32minterfaces/cython/cantera/base.pyx\u001b[0m in \u001b[0;36mcantera._cantera._SolutionBase._init_cti_xml\u001b[0;34m()\u001b[0m\n",
      "\u001b[0;31mCanteraError\u001b[0m: \n***********************************************************************\nCanteraError thrown by Application::findInputFile:\n\nInput file data/galway.cti not found in directories \n'.', \n'/home/derek/anaconda3/envs/IgnitionProject/lib/python3.8/site-packages/cantera/data', \n'/home/derek/anaconda3/envs/IgnitionProject/share/cantera/data'\n\nTo fix this problem, either:\n    a) move the missing files into the local directory;\n    b) define environment variable CANTERA_DATA to\n         point to the directory containing the file.\n***********************************************************************\n"
     ]
    }
   ],
   "source": [
    "gas = ct.Solution('data/galway.cti')"
   ]
  },
  {
   "cell_type": "markdown",
   "metadata": {},
   "source": [
    "### Define initial conditions\n",
    "#### Inlet conditions for the gas and reactor parameters"
   ]
  },
  {
   "cell_type": "code",
   "execution_count": null,
   "metadata": {},
   "outputs": [],
   "source": [
    "# Inlet gas conditions\n",
    "reactorTemperature = 925  # Kelvin\n",
    "reactorPressure = 1.046138*ct.one_atm  # in atm. This equals 1.06 bars\n",
    "concentrations = {'NC7H16': 0.005, 'O2': 0.0275, 'HE': 0.9675}\n",
    "gas.TPX = reactorTemperature, reactorPressure, concentrations \n",
    "\n",
    "# Reactor parameters\n",
    "residenceTime = 2  # s\n",
    "reactorVolume = 30.5*(1e-2)**3  # m3\n",
    "\n",
    "# Instrument parameters\n",
    "\n",
    "# This is the \"conductance\" of the pressure valve and will determine its efficiency in \n",
    "# holding the reactor pressure to the desired conditions. \n",
    "pressureValveCoefficient = 0.01\n",
    "\n",
    "# This parameter will allow you to decide if the valve's conductance is acceptable. If there\n",
    "# is a pressure rise in the reactor beyond this tolerance, you will get a warning\n",
    "maxPressureRiseAllowed = 0.01"
   ]
  },
  {
   "cell_type": "markdown",
   "metadata": {},
   "source": [
    "#### Simulation parameters"
   ]
  },
  {
   "cell_type": "code",
   "execution_count": null,
   "metadata": {},
   "outputs": [],
   "source": [
    "# Simulation termination criterion\n",
    "maxSimulationTime = 50  # seconds"
   ]
  },
  {
   "cell_type": "markdown",
   "metadata": {},
   "source": [
    "### Reactor arrangement\n",
    "\n",
    "We showed a cartoon of the reactor in the first figure in this notebook; but to actually simulate that, we need a few peripherals. A mass-flow controller upstream of the stirred reactor will allow us to flow gases in, and in-turn, a \"reservoir\" which simulates a gas tank is required to supply gases to the mass flow controller. Downstream of the reactor, we install a pressure regulator which allows the reactor pressure to stay within. Downstream of the regulator we will need another reservoir which acts like a \"sink\" or capture tank to capture all exhaust gases (even our simulations are environmentally friendly !). This arrangment is illustrated below\n",
    "\n",
    "<img src=\"images/stirredReactorCanteraSimulation.png\" alt=\"Cartoon of a Stirred Reactor\" style=\"width: 600px;\"/>"
   ]
  },
  {
   "cell_type": "markdown",
   "metadata": {},
   "source": [
    "#### Initialize the stirred reactor and connect all peripherals"
   ]
  },
  {
   "cell_type": "code",
   "execution_count": null,
   "metadata": {},
   "outputs": [],
   "source": [
    "fuelAirMixtureTank = ct.Reservoir(gas)\n",
    "exhaust = ct.Reservoir(gas)\n",
    "\n",
    "stirredReactor = ct.IdealGasReactor(gas, energy='off', volume=reactorVolume)\n",
    "\n",
    "massFlowController = ct.MassFlowController(upstream=fuelAirMixtureTank,\n",
    "                                           downstream=stirredReactor,\n",
    "                                           mdot=stirredReactor.mass/residenceTime)\n",
    "\n",
    "pressureRegulator = ct.Valve(upstream=stirredReactor,\n",
    "                             downstream=exhaust,\n",
    "                             K=pressureValveCoefficient)\n",
    "\n",
    "reactorNetwork = ct.ReactorNet([stirredReactor])"
   ]
  },
  {
   "cell_type": "code",
   "execution_count": null,
   "metadata": {},
   "outputs": [],
   "source": [
    "# Now compile a list of all variables for which we will store data\n",
    "columnNames = [stirredReactor.component_name(item) for item in range(stirredReactor.n_vars)]\n",
    "columnNames = ['pressure'] + columnNames\n",
    "\n",
    "# Use the above list to create a DataFrame\n",
    "timeHistory = pd.DataFrame(columns=columnNames)"
   ]
  },
  {
   "cell_type": "code",
   "execution_count": null,
   "metadata": {},
   "outputs": [],
   "source": [
    "# Start the stopwatch\n",
    "tic = time.time()\n",
    "\n",
    "# Set simulation start time to zero\n",
    "t = 0\n",
    "counter = 1\n",
    "while t < maxSimulationTime:\n",
    "    t = reactorNetwork.step()\n",
    "\n",
    "    # We will store only every 10th value. Remember, we have 1200+ species, so there will be\n",
    "    # 1200 columns for us to work with\n",
    "    if(counter%10 == 0):\n",
    "        # Extract the state of the reactor\n",
    "        state = np.hstack([stirredReactor.thermo.P, stirredReactor.mass, \n",
    "                   stirredReactor.volume, stirredReactor.T, stirredReactor.thermo.X])\n",
    "        \n",
    "        # Update the dataframe\n",
    "        timeHistory.loc[t] = state\n",
    "    \n",
    "    counter += 1\n",
    "\n",
    "# Stop the stopwatch\n",
    "toc = time.time()\n",
    "\n",
    "print('Simulation Took {:3.2f}s to compute, with {} steps'.format(toc-tic, counter))\n",
    "\n",
    "# We now check to see if the pressure rise during the simulation, a.k.a the pressure valve\n",
    "# was okay\n",
    "pressureDifferential = timeHistory['pressure'].max()-timeHistory['pressure'].min()\n",
    "if(abs(pressureDifferential/reactorPressure) > maxPressureRiseAllowed):\n",
    "    print(\"WARNING: Non-trivial pressure rise in the reactor. Adjust K value in valve\")"
   ]
  },
  {
   "cell_type": "markdown",
   "metadata": {},
   "source": [
    "## Plot the results"
   ]
  },
  {
   "cell_type": "markdown",
   "metadata": {},
   "source": [
    "As a test, we plot the mole fraction of $CO$ and see if the simulation has converged. If not, go back and adjust max. number of steps and/or simulation time"
   ]
  },
  {
   "cell_type": "code",
   "execution_count": null,
   "metadata": {},
   "outputs": [],
   "source": [
    "plt.figure()\n",
    "plt.semilogx(timeHistory.index, timeHistory['CO'],'-o')\n",
    "plt.xlabel('Time (s)')\n",
    "plt.ylabel(r'Mole Fraction : $X_{CO}$');"
   ]
  },
  {
   "cell_type": "markdown",
   "metadata": {},
   "source": [
    "## Illustration : Modeling experimental data\n",
    "### Let us see if the reactor can reproduce actual experimental measurements\n",
    "\n",
    "We first load the data. This is also supplied in the paper by [Zhang et al.](http://dx.doi.org/10.1016/j.combustflame.2015.08.001) as an excel sheet"
   ]
  },
  {
   "cell_type": "code",
   "execution_count": null,
   "metadata": {},
   "outputs": [],
   "source": [
    "expData = pd.read_csv('data/zhangExpData.csv')\n",
    "expData.head()"
   ]
  },
  {
   "cell_type": "code",
   "execution_count": null,
   "metadata": {},
   "outputs": [],
   "source": [
    "# Define all the temperatures at which we will run simulations. These should overlap\n",
    "# with the values reported in the paper as much as possible\n",
    "T = [650, 700, 750, 775, 825, 850, 875, 925, 950, 1075, 1100]\n",
    "\n",
    "# Create a DataFrame to store values for the above points\n",
    "tempDependence = pd.DataFrame(columns=timeHistory.columns)\n",
    "tempDependence.index.name = 'Temperature'"
   ]
  },
  {
   "cell_type": "markdown",
   "metadata": {},
   "source": [
    "Now we simply run the reactor code we used above for each temperature"
   ]
  },
  {
   "cell_type": "code",
   "execution_count": null,
   "metadata": {},
   "outputs": [],
   "source": [
    "inletConcentrations = {'NC7H16': 0.005, 'O2': 0.0275, 'HE': 0.9675}\n",
    "concentrations = inletConcentrations\n",
    "\n",
    "for temperature in T:\n",
    "    # Re-initialize the gas\n",
    "    reactorTemperature = temperature  # Kelvin\n",
    "    reactorPressure = 1.046138*ct.one_atm  # in atm. This equals 1.06 bars\n",
    "    reactorVolume = 30.5*(1e-2)**3  # m3\n",
    "\n",
    "    gas.TPX = reactorTemperature, reactorPressure, inletConcentrations\n",
    "\n",
    "    # Re-initialize the dataframe used to hold values\n",
    "    timeHistory = pd.DataFrame(columns=columnNames)\n",
    "    \n",
    "    # Re-initialize all the reactors, reservoirs, etc.\n",
    "    fuelAirMixtureTank = ct.Reservoir(gas)\n",
    "    exhaust = ct.Reservoir(gas)\n",
    "    \n",
    "    # We will use concentrations from the previous iteration to speed up convergence\n",
    "    gas.TPX = reactorTemperature, reactorPressure, concentrations\n",
    "    \n",
    "    stirredReactor = ct.IdealGasReactor(gas, energy='off', volume=reactorVolume)\n",
    "    massFlowController = ct.MassFlowController(upstream=fuelAirMixtureTank,\n",
    "                                               downstream=stirredReactor,\n",
    "                                               mdot=stirredReactor.mass/residenceTime)\n",
    "    pressureRegulator = ct.Valve(upstream=stirredReactor, \n",
    "                                 downstream=exhaust, \n",
    "                                 K=pressureValveCoefficient)\n",
    "    reactorNetwork = ct.ReactorNet([stirredReactor])\n",
    "    \n",
    "    # Re-run the isothermal simulations\n",
    "    tic = time.time()\n",
    "    t = 0\n",
    "    while t < maxSimulationTime:\n",
    "        t = reactorNetwork.step()\n",
    "        \n",
    "    state = np.hstack([stirredReactor.thermo.P, \n",
    "                       stirredReactor.mass, \n",
    "                       stirredReactor.volume, \n",
    "                       stirredReactor.T, \n",
    "                       stirredReactor.thermo.X])\n",
    "\n",
    "    toc = time.time()\n",
    "    print('Simulation at T={}K took {:3.2f}s to compute'.format(temperature, toc-tic))\n",
    "    \n",
    "    concentrations = stirredReactor.thermo.X\n",
    "    \n",
    "    # Store the result in the dataframe that indexes by temperature\n",
    "    tempDependence.loc[temperature] = state"
   ]
  },
  {
   "cell_type": "markdown",
   "metadata": {},
   "source": [
    "### Compare the model results with experimental data"
   ]
  },
  {
   "cell_type": "code",
   "execution_count": null,
   "metadata": {},
   "outputs": [],
   "source": [
    "plt.figure()\n",
    "plt.plot(tempDependence.index, tempDependence['NC7H16'], 'r-', label=r'$nC_{7}H_{16}$')\n",
    "plt.plot(tempDependence.index, tempDependence['CO'], 'b-', label='CO')\n",
    "plt.plot(tempDependence.index, tempDependence['O2'], 'k-', label='O$_{2}$')\n",
    "\n",
    "plt.plot(expData['T'], expData['NC7H16'],'ro', label=r'$nC_{7}H_{16} (exp)$')\n",
    "plt.plot(expData['T'], expData['CO'],'b^', label='CO (exp)')\n",
    "plt.plot(expData['T'], expData['O2'],'ks', label='O$_{2}$ (exp)')\n",
    "\n",
    "plt.xlabel('Temperature (K)')\n",
    "plt.ylabel(r'Mole Fractions')\n",
    "\n",
    "plt.xlim([650, 1100])\n",
    "plt.legend(loc=1);"
   ]
  }
 ],
 "metadata": {
  "kernelspec": {
   "display_name": "Python 3",
   "language": "python",
   "name": "python3"
  },
  "language_info": {
   "codemirror_mode": {
    "name": "ipython",
    "version": 3
   },
   "file_extension": ".py",
   "mimetype": "text/x-python",
   "name": "python",
   "nbconvert_exporter": "python",
   "pygments_lexer": "ipython3",
   "version": "3.8.2"
  }
 },
 "nbformat": 4,
 "nbformat_minor": 1
}
